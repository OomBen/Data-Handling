{
 "cells": [
  {
   "cell_type": "markdown",
   "metadata": {},
   "source": [
    "Notes: Introduction\n",
    "Pandas used to categorise and simplify dataframe\n",
    "Seaborn developed as a wrapper to simplify the use of dataframes in matplotlibs\n",
    "\n",
    "\n"
   ]
  },
  {
   "cell_type": "markdown",
   "metadata": {},
   "source": [
    "    read_csv(\"filepath\", sep=';') :: Always encode in UTF-8, (use excel delimiter with option sep=';' for data specific separators)\n",
    "    to_csv()   :: Always encode in UTF-8 (for natural language and character compatibility)\n",
    "        \n"
   ]
  },
  {
   "cell_type": "markdown",
   "metadata": {},
   "source": [
    "## Observational Studies:\n",
    "1) Correlation can be inferred\n",
    "\n",
    "## Experimental Studies:\n",
    "1) Randomly Assign subjects to various treatments\\\n",
    "\n",
    "2) Causation can be inferred"
   ]
  },
  {
   "cell_type": "markdown",
   "metadata": {},
   "source": [
    "## Random Sampling\n",
    "1) subjects randomly selected from population\n",
    "\n",
    "2) Result generalised to population\n",
    "\n",
    "## Random Assignment\n",
    "1) Subjects are randomly assigned to treatments\n",
    "\n",
    "2) Only in experimental studies\n"
   ]
  },
  {
   "cell_type": "markdown",
   "metadata": {},
   "source": [
    "## Resampling\n",
    "Minimization of Residuals (OLS estimation)\n",
    "\n",
    "Maximum Likelihood Estimation\n",
    "\n",
    "Sampling (Bootstrap, Monte Carlo)"
   ]
  },
  {
   "cell_type": "markdown",
   "metadata": {},
   "source": [
    "# Urn Model Example\n",
    "Experiment: Study the effects of calcium supplements on blood pressure for male subjects. Radnomised into 2 groups, one received calcium supplement for 12 weeks, the other received a placebo for 12 weeks. The experiment is double blind. The response is measured as initial blood pressure - blood pressure after 12 weeks."
   ]
  },
  {
   "cell_type": "markdown",
   "metadata": {},
   "source": [
    "Treatment Group: 7, -4, 18, 17, -3, -5, 1, 10, 11, -2\n",
    "\n",
    "Placebo Group: -1, 12, -1, -3, 3, -5, 5, 2, -11, -1, -3\n",
    "\n",
    "These indicate the response (change in blood pressure) after 12 weeks"
   ]
  },
  {
   "cell_type": "code",
   "execution_count": 1,
   "metadata": {},
   "outputs": [],
   "source": [
    "#All the responses are thrown into one batch\n",
    "urn = [7, -4, 18, 17, -3, -5, 1, 10, 11, -2, -1, 12, -1, -3, 3, -5, 5, 2, -11, -1, -3]"
   ]
  },
  {
   "cell_type": "code",
   "execution_count": 2,
   "metadata": {},
   "outputs": [
    {
     "data": {
      "text/plain": [
       "4.0"
      ]
     },
     "execution_count": 2,
     "metadata": {},
     "output_type": "execute_result"
    }
   ],
   "source": [
    "#Draws: drawing 10 values from the batched data. Not replaced\n",
    "#the drawn marbles are the \"treatment\" and the remaining are the \"control\"\n",
    "#The following is an example of a single sample\n",
    "\n",
    "import numpy as np\n",
    "calc = np.random.choice(urn, 10, replace = False)\n",
    "np.mean(calc)"
   ]
  },
  {
   "cell_type": "markdown",
   "metadata": {},
   "source": [
    "To approach the question of What if the calcium makes no difference and that the results could've been obtained by random chance, the Urn model assumes that the calcium supplement has no effect, then all subjects would have the responses whether or not they received the supplement. We compute the average change in blood pressure for the treatment (test stat), then we repeat this thousands of times to get the distribution of the mean change in blood pressure."
   ]
  },
  {
   "cell_type": "code",
   "execution_count": 32,
   "metadata": {},
   "outputs": [
    {
     "data": {
      "image/png": "[encoded data removed]",
      "text/plain": [
       "<Figure size 432x288 with 1 Axes>"
      ]
     },
     "metadata": {
      "needs_background": "light"
     },
     "output_type": "display_data"
    }
   ],
   "source": [
    "#The above single sample must be repeated many times to get the distribution of the statistic\n",
    "\n",
    "import matplotlib.pyplot as plt\n",
    "avgs = []\n",
    "for i in range (0, 5000):\n",
    "    avgs.append(np.mean(np.random.choice(urn, 10, replace = False)))\n",
    "    \n",
    "plt.hist(avgs)\n",
    "plt.show()"
   ]
  },
  {
   "cell_type": "markdown",
   "metadata": {},
   "source": [
    "An Urn model is used because it connects statistical techniques to underlying chance. Now we have to connect this empirical result to the probability of it happening by random chance. An Urn model can be used in stead of a T-test or a Chi-square in some cases. It is good to compare the Urn model result to these tests."
   ]
  },
  {
   "cell_type": "code",
   "execution_count": 4,
   "metadata": {},
   "outputs": [
    {
     "name": "stdout",
     "output_type": "stream",
     "text": [
      "5.0\n",
      "-0.2727272727272727 \n",
      "\n",
      "P-value of the above Urn model\n",
      "0.0608\n",
      "\n",
      " Treatment Effect \n",
      " Ho: mean <= 5 \n",
      " Ha: mean > 5\n",
      "Reject the Null Hypothesis at a 10% level of significance\n"
     ]
    }
   ],
   "source": [
    "treatment = [7, -4, 18, 17, -3, -5, 1, 10, 11, -2]\n",
    "placebo = [-1, 12, -1, -3, 3, -5, 5, 2, -11, -1, -3]\n",
    "print(np.mean(treatment))\n",
    "print(np.mean(placebo),\"\\n\")\n",
    "\n",
    "print(\"P-value of the above Urn model\") #The amount of observed means of 5 out of all the observed means\n",
    "treatment_value = [i for i in avgs if i >= 5]\n",
    "pv = len(treatment_value)/5000\n",
    "print(pv)\n",
    "\n",
    "print(\"\\n\",\"Treatment Effect\",\"\\n\",\"Ho: mean <= 5\",\"\\n\",\"Ha: mean > 5\")\n",
    "if(pv < 0.1):\n",
    "    print(\"Reject the Null Hypothesis at a 10% level of significance\")\n",
    "elif (pv < 0.05):\n",
    "    print(\"Reject the Null Hypothesis at a 5% level of significance\")\n",
    "else:\n",
    "    print(\"Do not reject the Null Hypothesis at either a 5% or 10% level of significance\")"
   ]
  },
  {
   "cell_type": "markdown",
   "metadata": {},
   "source": [
    "Since the mean of the treatment group is 5.0, we can determine what is the probability of this mean occuring by random chance by taking the amount of occurrences over the total amount of sample statistics. (I.E prob success over total prob).\n",
    "\n",
    "## Two Sample, One Tail T-test\n",
    "    H0: Placebo >= Treatment\n",
    "    Ha: Placebo < Treatment\n",
    "Scipy library functions can be used to make a hypothesis test based on the value of E(x) and E(y): Note that since the values in the calculation are all positive, we cannot use the p-value as is and should divide it by 2 as seen in the Two Tail T-test"
   ]
  },
  {
   "cell_type": "code",
   "execution_count": 5,
   "metadata": {},
   "outputs": [
    {
     "data": {
      "text/plain": [
       "Ttest_indResult(statistic=1.6341082415908594, pvalue=0.11869682666685942)"
      ]
     },
     "execution_count": 5,
     "metadata": {},
     "output_type": "execute_result"
    }
   ],
   "source": [
    "from scipy import stats\n",
    "stats.ttest_ind(treatment, placebo)\n",
    "#Since this is a one-tail test we do the following: Reject Ho if p_val/2 < alpha"
   ]
  },
  {
   "cell_type": "markdown",
   "metadata": {},
   "source": [
    "## Two Sample, Two Tailed T-test\n",
    "We can do some string handling to get the p-value on its own.\n",
    "\n",
    "    NOTE: stats.ttest_ind() and stats.ttest_1samp() both give\n",
    "    the two-tail p_value. So whenever using those functions, \n",
    "    remember to divide by 2 to get the useful p-val."
   ]
  },
  {
   "cell_type": "code",
   "execution_count": 6,
   "metadata": {},
   "outputs": [
    {
     "name": "stdout",
     "output_type": "stream",
     "text": [
      "Reject the Null Hypothesis at a 10% level of significance\n"
     ]
    }
   ],
   "source": [
    "result = stats.ttest_ind(treatment, placebo)\n",
    "if (result[1]/2 < 0.1):  #This is testing with a significance of 10% (alpha = 0.1)\n",
    "    print(\"Reject the Null Hypothesis at a 10% level of significance\")\n",
    "else:\n",
    "    print(\"Do not reject the Null Hypothesis at a 10% level of significance\")"
   ]
  },
  {
   "cell_type": "markdown",
   "metadata": {},
   "source": [
    "## One Sample, One Tail T-test\n",
    "Here we replicate the Urn model. Instead of separating Treatment and Placebo we ask, What are the chances that the change in blood pressure of higher than 5.0 is random? (I.E, What are the chances that the mean of 5.0 occurred randomly). This means we define our inference as follows:\n",
    "\n",
    "    Ho: mean <= 5   (observing a value of higher than 5 is random)\n",
    "    Ha: mean > 5    (observing a value of higher than 5 is not random)\n",
    "    \n",
    "In this case the sign is important. A positive sign implies that the sample mean is larger than the hypothesized mean, indicating evidence against Ho. "
   ]
  },
  {
   "cell_type": "code",
   "execution_count": 7,
   "metadata": {},
   "outputs": [
    {
     "name": "stdout",
     "output_type": "stream",
     "text": [
      "Critical Value:  -1.6464919104720495\n",
      "P-value:  0.05764327437588174 \n",
      "\n",
      "Hypothesis Conclusion\n",
      "Do not reject the Null Hypothesis at either a 5% or 10% level of significance\n"
     ]
    }
   ],
   "source": [
    "#Testing whether the mean (mu) is greater than 5\n",
    "mu = 5\n",
    "result = stats.ttest_1samp(urn,mu)\n",
    "print(\"Critical Value: \", result[0])\n",
    "print(\"P-value: \", result[1]/2, \"\\n\")\n",
    "print(\"Hypothesis Conclusion\")\n",
    "\n",
    "if(result[0] > 0) & (result[1]/2 < 0.1):\n",
    "    print(\"Reject the Null Hypothesis at a 10% level of significance\")\n",
    "elif (result[0] > 0) & (result[1]/2 < 0.05):\n",
    "    print(\"Reject the Null Hypothesis at a 5% level of significance\")\n",
    "else:\n",
    "    print(\"Do not reject the Null Hypothesis at either a 5% or 10% level of significance\")"
   ]
  },
  {
   "cell_type": "markdown",
   "metadata": {},
   "source": [
    "The result of the Urn model p_value is very similar to the t-test p_value. In neither case can we reject the Null hypothesis at a 5% level of significance. This indicates that the treatment effect is significant at more than 10% significance, but at 5% it performs no better than random."
   ]
  },
  {
   "cell_type": "markdown",
   "metadata": {},
   "source": [
    "# Monte Carlo and Bootstrapping\n",
    "The main methods of studying the Sampling Distribution of a Statistic:\n",
    "    1) Probability Theory\n",
    "    2) Simple Monte Carlo Simulation\n",
    "    3) Bootstrapping the Sample\n",
    "    \n",
    "Monte Carlo methods involve generating a distribution by repeatedly sampling a certain amount in order to gain insights about the population.\n",
    "\n",
    "In Bootstrapping, we only have a sample and not a population. Since the sample (more or less) estimates the population, we use the sample as the population (this is creating a Bootstrap population), then we do the same process of drawing from the Bootstrap population repeatedly, finding a distribution thereof and gaining insights about the population.\n",
    "\n",
    "Bootstrapping is a useful tool but the following are limiting factors; Needs a large and random sample so that the sample best resembles the population. The bootstrap process is repeated many times, 10 000 replications is a reasonable number. Difficulties arise when parameter estimates are significantly influenced by outliers or the paramter is based on extreme values of the distribution. Also is the sampling distribution is significantly different from a normal distribution.\n"
   ]
  },
  {
   "cell_type": "markdown",
   "metadata": {},
   "source": [
    "## Monte Carlo Simulation\n",
    "Using Health and Safety Scores for San-Fransisco Restaurants database"
   ]
  },
  {
   "cell_type": "code",
   "execution_count": 8,
   "metadata": {},
   "outputs": [],
   "source": [
    "import pandas as pd\n",
    "import matplotlib.pyplot as plt\n",
    "import numpy as np\n",
    "import random"
   ]
  },
  {
   "cell_type": "code",
   "execution_count": 9,
   "metadata": {},
   "outputs": [],
   "source": [
    "scores = pd.read_csv(\"inspectionScores2016.csv\")\n",
    "restaurant_score = np.array(scores[\"score\"])"
   ]
  },
  {
   "cell_type": "markdown",
   "metadata": {},
   "source": [
    "Next we obtain the population distribution and relevant statistics (mean and variance)"
   ]
  },
  {
   "cell_type": "code",
   "execution_count": 10,
   "metadata": {},
   "outputs": [
    {
     "name": "stdout",
     "output_type": "stream",
     "text": [
      "Mean:  90.27977107638125\n",
      "Std Deviation:  7.981838991022633\n"
     ]
    },
    {
     "data": {
      "image/png": "[encoded data removed]",
      "text/plain": [
       "<Figure size 432x288 with 1 Axes>"
      ]
     },
     "metadata": {
      "needs_background": "light"
     },
     "output_type": "display_data"
    }
   ],
   "source": [
    "population_mean = np.mean(scores[\"score\"])\n",
    "population_stdD = np.std(scores[\"score\"])\n",
    "\n",
    "print(\"Mean: \", population_mean)\n",
    "print(\"Std Deviation: \", population_stdD)\n",
    "\n",
    "scores.hist(\"score\", bins = 50)\n",
    "plt.show()"
   ]
  },
  {
   "cell_type": "markdown",
   "metadata": {},
   "source": [
    "Here we draw a simple random sample of size n = 100 from the population. The sample statistics should resemble the population statistics. The histogram should somewhat resemble the population histogram, but results will vary."
   ]
  },
  {
   "cell_type": "code",
   "execution_count": 11,
   "metadata": {},
   "outputs": [
    {
     "name": "stdout",
     "output_type": "stream",
     "text": [
      "Mean:  89.73\n",
      "Std Deviation:  8.14844156879093\n"
     ]
    },
    {
     "data": {
      "image/png": "[encoded data removed]",
      "text/plain": [
       "<Figure size 432x288 with 1 Axes>"
      ]
     },
     "metadata": {
      "needs_background": "light"
     },
     "output_type": "display_data"
    }
   ],
   "source": [
    "restaurant_sample = random.sample(list(scores[\"score\"]),100)\n",
    "sample_mean = np.mean(restaurant_sample)\n",
    "sample_stdD = np.std(restaurant_sample)\n",
    "print(\"Mean: \", sample_mean)\n",
    "print(\"Std Deviation: \", sample_stdD)\n",
    "\n",
    "plt.hist(restaurant_sample, bins = 50)\n",
    "plt.show()"
   ]
  },
  {
   "cell_type": "markdown",
   "metadata": {},
   "source": [
    "The single draw above is not an accurate enough measure of the population, we must use Monte Carlo techniques for creating a sample distribution of the draws in order to gain insights about the population. Below is shown how the resampling is done and how the sampling distribution statistics behave. Notice how the distribtuion is centered around a value close to the population mean and the same is the case for the standard deviation respectively."
   ]
  },
  {
   "cell_type": "code",
   "execution_count": 12,
   "metadata": {},
   "outputs": [
    {
     "data": {
      "image/png": "[encoded data removed]",
      "text/plain": [
       "<Figure size 432x288 with 1 Axes>"
      ]
     },
     "metadata": {
      "needs_background": "light"
     },
     "output_type": "display_data"
    },
    {
     "data": {
      "image/png": "[encoded data removed]",
      "text/plain": [
       "<Figure size 432x288 with 1 Axes>"
      ]
     },
     "metadata": {
      "needs_background": "light"
     },
     "output_type": "display_data"
    }
   ],
   "source": [
    "sample_means = []\n",
    "sample_std_dev = []\n",
    "\n",
    "for i in range (0,10000):\n",
    "    draw_list = []\n",
    "    for j in range (0,100):\n",
    "        draw_list.append(random.choice(scores[\"score\"]))\n",
    "        \n",
    "    sample_means.append(np.asarray(draw_list).mean())\n",
    "    sample_std_dev.append(np.asarray(draw_list).std())\n",
    "    \n",
    "plt.title(\"Distribution of sample means drawn from Population\")\n",
    "plt.xlabel(\"Mean\")\n",
    "plt.ylabel(\"Frequency\")\n",
    "plt.hist(sample_means, bins = 50, color = \"grey\")\n",
    "plt.show()\n",
    "\n",
    "plt.title(\"Distribution of sample standard deviations drawn form Population\")\n",
    "plt.xlabel(\"Standard Deviation\")\n",
    "plt.ylabel(\"Frequency\")\n",
    "plt.hist(sample_std_dev, bins = 50, color=\"grey\")\n",
    "plt.show()"
   ]
  },
  {
   "cell_type": "markdown",
   "metadata": {},
   "source": [
    "## Bootstrapping\n",
    "Lets consider the case where we only have one of the above samples available to us. We will be using a bootstrap sample of n = 100 of which we will sample the mean 10 000 times to get an insight to the population."
   ]
  },
  {
   "cell_type": "code",
   "execution_count": 13,
   "metadata": {},
   "outputs": [
    {
     "name": "stdout",
     "output_type": "stream",
     "text": [
      "Bootstrap Mean:  90.2863\n",
      "Bootstrap Standard Deviation:  0.8087 \n",
      "\n"
     ]
    },
    {
     "data": {
      "image/png": "[encoded data removed]",
      "text/plain": [
       "<Figure size 432x288 with 1 Axes>"
      ]
     },
     "metadata": {
      "needs_background": "light"
     },
     "output_type": "display_data"
    }
   ],
   "source": [
    "bootstrap_sample = []\n",
    "\n",
    "for i in range (0,10000):\n",
    "    for j in range (0,100):\n",
    "        bootstrap_sample.append(random.choice(sample_means))    #Not necessary to calculate means as these are samples\n",
    "                                                                #of the means.\n",
    "        \n",
    "print(\"Bootstrap Mean: \",round(np.asarray(bootstrap_sample).mean(),4)) #rounding to 4 decimal points\n",
    "print(\"Bootstrap Standard Deviation: \", round(np.asarray(bootstrap_sample).std(),4),\"\\n\")\n",
    "        \n",
    "plt.title(\"Sample distribution of 10 000 bootstrapped means\")\n",
    "plt.xlabel(\"Mean\")\n",
    "plt.ylabel(\"Frequency\")\n",
    "plt.hist(bootstrap_sample, bins = 50, color = \"grey\")\n",
    "plt.show()"
   ]
  },
  {
   "cell_type": "markdown",
   "metadata": {},
   "source": [
    "Bootstrapping can also be done if we want to calculate other statistics of interest. Here we will determine the distribution of the proportion of scores above 95 using the bootstrap population. We first need to create a bootstrap population from the restaurant score sample we have. We will create a population of 5000 from the population as we are no longer working with sample means."
   ]
  },
  {
   "cell_type": "code",
   "execution_count": 14,
   "metadata": {},
   "outputs": [
    {
     "data": {
      "image/png": "[encoded data removed]",
      "text/plain": [
       "<Figure size 432x288 with 1 Axes>"
      ]
     },
     "metadata": {
      "needs_background": "light"
     },
     "output_type": "display_data"
    }
   ],
   "source": [
    "bootstrap_population = []\n",
    "bootstrap_proportion = []\n",
    "\n",
    "for i in range (0,5000):\n",
    "    restaurant_sample = np.random.choice(scores[\"score\"],100)\n",
    "    bootstrap_proportion.append(len(restaurant_sample[restaurant_sample>95])/100)\n",
    "    \n",
    "plt.title(\"Spread of the proportion of scores above 95\")\n",
    "plt.hist(bootstrap_proportion, bins=50, color=\"grey\")\n",
    "plt.show()"
   ]
  },
  {
   "cell_type": "markdown",
   "metadata": {},
   "source": [
    "Another usefull statistic is the confidence interval. Here we calculate the confidence interval on the bootstrapped proportion using scipy library functions\n"
   ]
  },
  {
   "cell_type": "code",
   "execution_count": 15,
   "metadata": {},
   "outputs": [
    {
     "name": "stdout",
     "output_type": "stream",
     "text": [
      "0.3087035973234577  -  0.3112964026765423\n",
      "0.3187035973234577  -  0.3212964026765423\n",
      "0.3087035973234577  -  0.3112964026765423\n",
      "0.2687035973234577  -  0.2712964026765423\n",
      "0.3487035973234577  -  0.3512964026765423\n"
     ]
    }
   ],
   "source": [
    "from scipy.stats import sem, t\n",
    "from scipy import mean\n",
    "\n",
    "confidence = 0.95\n",
    "for i in range (0,100):\n",
    "    std_err = sem(bootstrap_proportion)\n",
    "    h = std_err* t.ppf((confidence + 1) / 2, len(bootstrap_proportion) - 1)\n",
    "    start = bootstrap_proportion - h\n",
    "    end = bootstrap_proportion + h\n",
    "    \n",
    "for j in range (0,5):\n",
    "    print(start[j],\" - \",end[j])"
   ]
  },
  {
   "cell_type": "markdown",
   "metadata": {},
   "source": [
    "# Natural Language Processing and Text Mining\n",
    "## Unstructured Text:\n",
    "    No metadata\n",
    "    Observations not labelled\n",
    "    veracity and uncertainty\n",
    "    highly dimensional\n",
    "Despite these drawbacks, unstructured text allows for larger volumes and more current data to exist, and an underlying semantic pattern will exist regardless.\n",
    "\n",
    "## Manifold Hypothesis:\n",
    "This states that high dimensional spaces tend to lie in the vicintiy of underlying lower dimensional spaces (manifolds). An analogy would be in clustering, where small clusters tend to cluster (albeit not apparant) into larger, but less clear groups.\n",
    "\n",
    "## Working with Raw Text:\n",
    "Not all the words in a sample of text are going to be useful, and the more of them there are, the greater will your factor of noise. A computer when reading a raw text input will treat the entire text as one object. It is necessary to break up the text in a way that can interpret each word or input separately."
   ]
  },
  {
   "cell_type": "code",
   "execution_count": 16,
   "metadata": {},
   "outputs": [],
   "source": [
    "sample_text = \"I am a student from the University of Alabama. I was born in Ontario, Canada and I am a huge fan of the United States. I am going to get a degree in Philosophy to improvemy chances of becoming a Philosophy professor. I have beenworking towards this goal for 4 years. I am currently enrolledin a PhD program. It is very difficult, but I am confident thatit will be a good decision\"\n"
   ]
  },
  {
   "cell_type": "markdown",
   "metadata": {},
   "source": [
    "Above is an example of such raw text, if you print the sample_text it will return the entire string literal as one object. Enter tokenization, the process of separating a single string object into individual tokens that represent words or characters. The Natural Language toolkit (NLTK) provides many functions for working with raw texts. Here we import the NLTK tools from the library (you might have to install a repository with the following code:\n",
    "\n",
    "    import nltk\n",
    "    nltk.download('punkt')\n",
    "    \n",
    "Now when you print the sample_word_tokens variable, it is visible that the string is now broken up into separate independant words."
   ]
  },
  {
   "cell_type": "code",
   "execution_count": 17,
   "metadata": {},
   "outputs": [
    {
     "name": "stderr",
     "output_type": "stream",
     "text": [
      "[nltk_data] Downloading package punkt to /home/ben/nltk_data...\n",
      "[nltk_data]   Package punkt is already up-to-date!\n"
     ]
    },
    {
     "data": {
      "text/plain": [
       "True"
      ]
     },
     "execution_count": 17,
     "metadata": {},
     "output_type": "execute_result"
    }
   ],
   "source": [
    "import nltk\n",
    "nltk.download('punkt')"
   ]
  },
  {
   "cell_type": "code",
   "execution_count": 18,
   "metadata": {},
   "outputs": [
    {
     "name": "stdout",
     "output_type": "stream",
     "text": [
      "['I', 'am', 'a', 'student', 'from', 'the', 'University', 'of', 'Alabama', '.', 'I', 'was', 'born', 'in', 'Ontario', ',', 'Canada', 'and', 'I', 'am', 'a', 'huge', 'fan', 'of', 'the', 'United', 'States', '.', 'I', 'am', 'going', 'to', 'get', 'a', 'degree', 'in', 'Philosophy', 'to', 'improvemy', 'chances', 'of', 'becoming', 'a', 'Philosophy', 'professor', '.', 'I', 'have', 'beenworking', 'towards', 'this', 'goal', 'for', '4', 'years', '.', 'I', 'am', 'currently', 'enrolledin', 'a', 'PhD', 'program', '.', 'It', 'is', 'very', 'difficult', ',', 'but', 'I', 'am', 'confident', 'thatit', 'will', 'be', 'a', 'good', 'decision']\n"
     ]
    }
   ],
   "source": [
    "from nltk.tokenize import word_tokenize , sent_tokenize\n",
    "from nltk.corpus import stopwords\n",
    "\n",
    "sample_word_tokens = word_tokenize(sample_text)\n",
    "sample_sent_tokens = sent_tokenize(sample_text)\n",
    "print(sample_word_tokens)"
   ]
  },
  {
   "cell_type": "markdown",
   "metadata": {},
   "source": [
    "The other function, sent_tokenize(), is a function that creates sentence tokens instead of word tokens. (I.E it breaks up text into sentences and not words). The text is still not yet useable, we have to remove all the words that do not contribute to the meaning of the text, these are auxiliary articles, pronouns and other classes that express grammatical relationship rather than intrinsic meaning. These are called stop-words and there is an NLTK dictionary of common stop-words and tools which can remove them. (Once again, you might need to install an additional repository:\n",
    "\n",
    "    import nltk\n",
    "    nltk.download('stopwords')"
   ]
  },
  {
   "cell_type": "code",
   "execution_count": 19,
   "metadata": {},
   "outputs": [
    {
     "name": "stderr",
     "output_type": "stream",
     "text": [
      "[nltk_data] Downloading package stopwords to /home/ben/nltk_data...\n",
      "[nltk_data]   Package stopwords is already up-to-date!\n"
     ]
    },
    {
     "data": {
      "text/plain": [
       "True"
      ]
     },
     "execution_count": 19,
     "metadata": {},
     "output_type": "execute_result"
    }
   ],
   "source": [
    "import nltk\n",
    "nltk.download('stopwords')"
   ]
  },
  {
   "cell_type": "code",
   "execution_count": 20,
   "metadata": {},
   "outputs": [
    {
     "name": "stdout",
     "output_type": "stream",
     "text": [
      "['student', 'University', 'Alabama', '.', 'born', 'Ontario', ',', 'Canada', 'huge', 'fan', 'United', 'States', '.', 'going', 'get', 'degree', 'Philosophy', 'improvemy', 'chances', 'becoming', 'Philosophy', 'professor', '.', 'beenworking', 'towards', 'goal', '4', 'years', '.', 'currently', 'enrolledin', 'PhD', 'program', '.', 'difficult', ',', 'confident', 'thatit', 'good', 'decision']\n"
     ]
    }
   ],
   "source": [
    "set(stopwords.words('english'))\n",
    "\n",
    "stop_words = [word.upper() for word in stopwords.words('english')]\n",
    "word_tokens = [word for word in sample_word_tokens if word.upper() not in stop_words]\n",
    "\n",
    "print(word_tokens)"
   ]
  },
  {
   "cell_type": "markdown",
   "metadata": {},
   "source": [
    "Although many of the stopwords have been removed, grammatical characters still exist in the text. The NLTK package also contains a tokenizer which can be used to get rid of these, using a Regex match pattern"
   ]
  },
  {
   "cell_type": "code",
   "execution_count": 21,
   "metadata": {},
   "outputs": [
    {
     "name": "stdout",
     "output_type": "stream",
     "text": [
      "['student', 'university', 'alabama', 'born', 'ontario', 'canada', 'huge', 'fan', 'united', 'states', 'going', 'get', 'degree', 'philosophy', 'improvemy', 'chances', 'becoming', 'philosophy', 'professor', 'beenworking', 'towards', 'goal', '4', 'years', 'currently', 'enrolledin', 'phd', 'program', 'difficult', 'confident', 'thatit', 'good', 'decision']\n"
     ]
    }
   ],
   "source": [
    "from nltk.tokenize import RegexpTokenizer\n",
    "\n",
    "tokenizer = RegexpTokenizer(r'\\w+') #regex pattern to match only words (not symbols or numbers)\n",
    "sample_word_tokens = tokenizer.tokenize(str(word_tokens))\n",
    "sample_word_tokens = [word.lower() for word in sample_word_tokens]\n",
    "\n",
    "print(sample_word_tokens)"
   ]
  },
  {
   "cell_type": "markdown",
   "metadata": {},
   "source": [
    "## Bag of Words\n",
    "This simply counts the occurrence of words in a text, it does not take into account there meaning or their order."
   ]
  },
  {
   "cell_type": "code",
   "execution_count": 22,
   "metadata": {},
   "outputs": [
    {
     "name": "stdout",
     "output_type": "stream",
     "text": [
      "Counter({'philosophy': 2, 'student': 1, 'university': 1, 'alabama': 1, 'born': 1, 'ontario': 1, 'canada': 1, 'huge': 1, 'fan': 1, 'united': 1, 'states': 1, 'going': 1, 'get': 1, 'degree': 1, 'improvemy': 1, 'chances': 1, 'becoming': 1, 'professor': 1, 'beenworking': 1, 'towards': 1, 'goal': 1, '4': 1, 'years': 1, 'currently': 1, 'enrolledin': 1, 'phd': 1, 'program': 1, 'difficult': 1, 'confident': 1, 'thatit': 1, 'good': 1, 'decision': 1})\n"
     ]
    }
   ],
   "source": [
    "import re\n",
    "import collections\n",
    "\n",
    "def bag_of_words(text):\n",
    "    _bag_of_words = [collections.Counter(re.findall(r'\\w+', word)) for word in text]\n",
    "    bag_of_words = sum(_bag_of_words, collections.Counter())\n",
    "    return bag_of_words\n",
    "\n",
    "sample_word_tokens_bow = bag_of_words(text=sample_word_tokens)\n",
    "print(sample_word_tokens_bow)"
   ]
  },
  {
   "cell_type": "markdown",
   "metadata": {},
   "source": [
    "Now to consider the SciKit learn library (one which is specialized for machine learning applications) and its equivalent toolkit. The sklearn preprocessing tool for raw text is an implementation of the Bag of Words algorithm which allow you to get the feature names (tokens) and the frequency of their occurrence."
   ]
  },
  {
   "cell_type": "code",
   "execution_count": 23,
   "metadata": {},
   "outputs": [
    {
     "name": "stdout",
     "output_type": "stream",
     "text": [
      "Shape:  (6, 29) \n",
      "\n",
      "(['4', 'alabama', 'beenworking', 'born', 'canada', 'chances', 'confident', 'currently', 'decision', 'degree', 'difficult', 'enrolledin', 'fan', 'goal', 'going', 'good', 'huge', 'improvemy', 'ontario', 'phd', 'philosophy', 'professor', 'program', 'states', 'student', 'thatit', 'united', 'university', 'years'], matrix([[0, 1, 0, 0, 0, 0, 0, 0, 0, 0, 0, 0, 0, 0, 0, 0, 0, 0, 0, 0, 0,\n",
      "         0, 0, 0, 1, 0, 0, 1, 0],\n",
      "        [0, 0, 0, 1, 1, 0, 0, 0, 0, 0, 0, 0, 1, 0, 0, 0, 1, 0, 1, 0, 0,\n",
      "         0, 0, 1, 0, 0, 1, 0, 0],\n",
      "        [0, 0, 0, 0, 0, 1, 0, 0, 0, 1, 0, 0, 0, 0, 1, 0, 0, 1, 0, 0, 2,\n",
      "         1, 0, 0, 0, 0, 0, 0, 0],\n",
      "        [1, 0, 1, 0, 0, 0, 0, 0, 0, 0, 0, 0, 0, 1, 0, 0, 0, 0, 0, 0, 0,\n",
      "         0, 0, 0, 0, 0, 0, 0, 1],\n",
      "        [0, 0, 0, 0, 0, 0, 0, 1, 0, 0, 0, 1, 0, 0, 0, 0, 0, 0, 0, 1, 0,\n",
      "         0, 1, 0, 0, 0, 0, 0, 0],\n",
      "        [0, 0, 0, 0, 0, 0, 1, 0, 1, 0, 1, 0, 0, 0, 0, 1, 0, 0, 0, 0, 0,\n",
      "         0, 0, 0, 0, 1, 0, 0, 0]], dtype=int64))\n"
     ]
    }
   ],
   "source": [
    "from sklearn.feature_extraction.text import CountVectorizer\n",
    "def bow_sklearn(text=sample_sent_tokens):\n",
    "    c = CountVectorizer(stop_words='english',token_pattern=r'\\w+')\n",
    "    converted_data = c.fit_transform(text).todense()\n",
    "    print(\"Shape: \", converted_data.shape, '\\n')\n",
    "    return c.get_feature_names() , converted_data\n",
    "\n",
    "print(bow_sklearn())"
   ]
  },
  {
   "cell_type": "markdown",
   "metadata": {},
   "source": [
    "# Text Transformation (Preprocessing)\n",
    "## Cosine Similarity\n",
    "The Cosine similarity measures the angle between Xi and Xi' when interpreted as vectors. Because Xi is a count vector (non-negative), the cosine similarity is between 0 and 1. Formulated as the product of the Vectors Xi * Xi' divided by the product of the euclidean distance of the two vectors. (Euc. Distance = sqrt(Sum of squares of Vector)).  \n",
    "\n",
    "## Text Frequency - Inverse Document Frequency (TF-IDF)\n",
    "TF : Number of occurences of a word in a document\n",
    "IDF: Log( Total number of documents / Number of documents containing Term)\n",
    "Bag of Words vectors can be transformed by TF-IDF to get a vector, the cosine similarity can then be determined using the transformed vector. TF-IDF is used because it is easy to get document similarity, the relevant words are kept secure while un-weighting the very frequent words.\n",
    "\n",
    "The following example uses the Movie Review data IMDB.csv:\n"
   ]
  },
  {
   "cell_type": "code",
   "execution_count": 24,
   "metadata": {},
   "outputs": [],
   "source": [
    "from sklearn.preprocessing import LabelEncoder\n",
    "\n",
    "le = LabelEncoder()      ## Encode labels with value between 0 and n_classes - 1\n",
    "review = pd.read_csv('IMDB.csv')\n",
    "review['target'] = le.fit_transform(review['sentiment']) ## classes positive||negative so 1 or 0 in column \"target\"\n",
    "review.drop('sentiment', axis = 1, inplace = True)   ##sentiment column no longer needed \n",
    "X_arr = review['review'].tolist()\n",
    "X_arr = X_arr[0:2000]       ##Use only first 2000 rows"
   ]
  },
  {
   "cell_type": "markdown",
   "metadata": {},
   "source": [
    "Now that we have a nicely formatted list, we can fit a logistic regression model using Bag of Words vectorization along with TF-IDF transformed numerical values for the text."
   ]
  },
  {
   "cell_type": "code",
   "execution_count": 25,
   "metadata": {},
   "outputs": [],
   "source": [
    "from sklearn.feature_extraction.text import TfidfVectorizer\n",
    "\n",
    "tfidf = TfidfVectorizer(max_df=0.5, min_df=2, ngram_range=(1,2), stop_words='english', token_pattern=r'\\b[^\\d\\W]+\\b')\n",
    "bag_of_words = tfidf.fit_transform(X_arr)\n",
    "feature_names = tfidf.get_feature_names()\n",
    "vectorized_text = pd.DataFrame(bag_of_words.todense(), columns=tfidf.get_feature_names())"
   ]
  },
  {
   "cell_type": "markdown",
   "metadata": {},
   "source": [
    "We have now made a TF-IDF transformed bag_of_words vector. The next step is to split the data into a training and a testing set in order to use a Logistic Regression machine learning function to make a model"
   ]
  },
  {
   "cell_type": "code",
   "execution_count": 26,
   "metadata": {},
   "outputs": [],
   "source": [
    "X_train = vectorized_text[0:1000]\n",
    "X_test = vectorized_text[1000:2000]\n",
    "Y_train = review['target'][0:1000]\n",
    "Y_test = review['target'][1000:2000]"
   ]
  },
  {
   "cell_type": "markdown",
   "metadata": {},
   "source": [
    "Data is split 50-50 between training and testing. Now we fit a logistic regression model to the data."
   ]
  },
  {
   "cell_type": "code",
   "execution_count": 27,
   "metadata": {},
   "outputs": [],
   "source": [
    "from sklearn.linear_model import LogisticRegression\n",
    "\n",
    "logistic = LogisticRegression(solver = 'lbfgs')\n",
    "logistic_model = logistic.fit(X_train, Y_train)  ##The model should be fitted to the training data\n",
    "acc = logistic_model.score(X_train, Y_train)\n",
    "ratio_class1 = Y_train.mean()"
   ]
  },
  {
   "cell_type": "markdown",
   "metadata": {},
   "source": [
    "Since we now have a model fitted, predictions can be made as to the nature of reviews found in the text. We import the sklearn \"metrics\" library in order to get the classification report. This gives insight to the model accuracy, recall and precision."
   ]
  },
  {
   "cell_type": "code",
   "execution_count": 28,
   "metadata": {},
   "outputs": [
    {
     "name": "stdout",
     "output_type": "stream",
     "text": [
      "              precision    recall  f1-score   support\n",
      "\n",
      "           0       0.83      0.81      0.82       496\n",
      "           1       0.82      0.84      0.83       504\n",
      "\n",
      "   micro avg       0.82      0.82      0.82      1000\n",
      "   macro avg       0.82      0.82      0.82      1000\n",
      "weighted avg       0.82      0.82      0.82      1000\n",
      "\n"
     ]
    }
   ],
   "source": [
    "from sklearn import metrics\n",
    "\n",
    "predicted = logistic_model.predict(X_test)\n",
    "probs = logistic_model.predict_proba(X_test)\n",
    "acc_score = metrics.accuracy_score(Y_test, predicted)  ##Test the real values against the predicted\n",
    "auc_score = metrics.roc_auc_score(Y_test, probs[:,1])  ##Calculate auc = area under curve, use for ROC parameters\n",
    "\n",
    "print(metrics.classification_report(Y_test, predicted))"
   ]
  },
  {
   "cell_type": "markdown",
   "metadata": {},
   "source": [
    "We can gain better understanding by representing the accuracy visually with a ROC (Reciever operating characteristic) curve. Compares the number of true positives to false positives. If model performs just as well as totally random then the curve will follow the diagonal."
   ]
  },
  {
   "cell_type": "code",
   "execution_count": 29,
   "metadata": {},
   "outputs": [
    {
     "data": {
      "image/png": "[encoded data removed]",
      "text/plain": [
       "<Figure size 432x288 with 1 Axes>"
      ]
     },
     "metadata": {
      "needs_background": "light"
     },
     "output_type": "display_data"
    }
   ],
   "source": [
    "%matplotlib inline\n",
    "import matplotlib.pyplot as plt\n",
    "\n",
    "X,Y,lim = metrics.roc_curve(Y_test, probs[:,1])\n",
    "plt.figure()\n",
    "plt.title('ROC Curve')\n",
    "plt.plot(X,Y,'red')  ##Plot the false positives (X) to the true positives (Y)\n",
    "plt.plot([0,1],[0,1],'blue')  ##Plot the diagonal\n",
    "plt.show()"
   ]
  },
  {
   "cell_type": "markdown",
   "metadata": {},
   "source": [
    "## Naive Bayes Classifier\n",
    "Basically the only difference between this and the above TF-IDF Logistic Regression method is that the occurrence of terms in each document is weighted the same (I.E it does not account for words that exist frequently in many documents, whereas TF-IDF reduces the effect of words that occur in many documents). So it is expected to be ever so slightly less accurate than TF-IDF Logistic Regression as will now be shown with the same data"
   ]
  },
  {
   "cell_type": "code",
   "execution_count": 30,
   "metadata": {},
   "outputs": [
    {
     "name": "stdout",
     "output_type": "stream",
     "text": [
      "              precision    recall  f1-score   support\n",
      "\n",
      "           0       0.74      0.85      0.79       496\n",
      "           1       0.83      0.71      0.76       504\n",
      "\n",
      "   micro avg       0.78      0.78      0.78      1000\n",
      "   macro avg       0.78      0.78      0.78      1000\n",
      "weighted avg       0.78      0.78      0.78      1000\n",
      "\n"
     ]
    }
   ],
   "source": [
    "from sklearn.feature_extraction.text import CountVectorizer\n",
    "from sklearn.naive_bayes import MultinomialNB\n",
    "\n",
    "cvec = CountVectorizer(stop_words='english', token_pattern=r'\\b[^\\d\\W]+\\b')\n",
    "bag_of_words = cvec.fit_transform(X_arr)  ##Here we assume the same data cleaning has been done (first 2000 obs)\n",
    "feature_names = cvec.get_feature_names()\n",
    "vectorized_text = pd.DataFrame(bag_of_words.todense(), columns=feature_names)\n",
    "\n",
    "X_train = vectorized_text[0:1000]\n",
    "X_test = vectorized_text[1000:2000]\n",
    "Y_train = review['target'][0:1000]\n",
    "Y_test = review['target'][1000:2000]\n",
    "\n",
    "nb = MultinomialNB()\n",
    "nb_model = nb.fit(X_train, Y_train)\n",
    "acc = nb_model.score(X_train, Y_train)\n",
    "ratio_class1 = Y_train.mean()\n",
    "\n",
    "predicted = nb_model.predict(X_test) ##used in metrics report\n",
    "probs = nb_model.predict_proba(X_test)\n",
    "acc_score = metrics.accuracy_score(Y_test,predicted)\n",
    "auc_score = metrics.roc_auc_score(Y_test, probs[:,1])\n",
    "print(metrics.classification_report(Y_test, predicted))"
   ]
  },
  {
   "cell_type": "markdown",
   "metadata": {},
   "source": [
    "As can be seen from the classification report, the overall accuracy is slightly lower 78% as opposed to 82% for the logistic regression case. Concluding that Naive-Bayes and count vectors are valid but not as accurate as using TF-IDF transformed vectors."
   ]
  },
  {
   "cell_type": "markdown",
   "metadata": {},
   "source": [
    "# Multiple Logistic Regression\n",
    "When using models for machine learning, some important metrics to consider are the following:\n",
    "\n",
    "    Positive Precision (a.k.a Precision): No. of [True Positives] over [True Positives + False Positives]\n",
    "    Positive Recall: No. of [True Positives] over the number of [True Positives + False Negatives]\n",
    "    Accuracy: The number of [Correct Predictions] over [Total Predictions]\n",
    "    \n",
    "\n",
    "All these metrics can be determined from a Confusion Matrix. A Type I error is a False Positive, while a Type II error is a False negative. \n",
    "\n",
    "Considering Accuracy as a metric: A large class imbalance (this is when the data has a large proportion of either posistive or negative labels compared to the proportion of the opposite) completely screws up the accuracy metric. While good when there is little or no class imbalance (I.E 50/50 positive and negative) the precision and recall are better metrics to use when there is an imbalance.\n"
   ]
  },
  {
   "cell_type": "markdown",
   "metadata": {},
   "source": [
    "# K-means clustering\n",
    "This is a form of unsupervised learning which finds k (a predetermined fixed amount) of means within the data and clusters observations according to how close they are to a certain k mean (called a centroid)."
   ]
  },
  {
   "cell_type": "code",
   "execution_count": 31,
   "metadata": {},
   "outputs": [],
   "source": [
    "import seaborn as sns\n",
    "import random\n",
    "from sklearn.datasets import make_blobs\n",
    "\n"
   ]
  },
  {
   "cell_type": "markdown",
   "metadata": {},
   "source": []
  }
 ],
 "metadata": {
  "kernelspec": {
   "display_name": "Python 3",
   "language": "python",
   "name": "python3"
  },
  "language_info": {
   "codemirror_mode": {
    "name": "ipython",
    "version": 3
   },
   "file_extension": ".py",
   "mimetype": "text/x-python",
   "name": "python",
   "nbconvert_exporter": "python",
   "pygments_lexer": "ipython3",
   "version": "3.7.3"
  }
 },
 "nbformat": 4,
 "nbformat_minor": 2
}
